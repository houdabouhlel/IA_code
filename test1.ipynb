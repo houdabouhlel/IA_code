#exercice 1
liste1=[]
for i in range(2000,3201):
    if (i%7==0 and i%5!=0):
        liste1.append(i)       ##liste1.append(i)==liste1.insert(len(liste1),i) ##inserer la valeur i dans la position derniere (len(liste1)) dans la liste
print(liste1)
#exercice 2

def factorielle(x,fin):
    if(fin!=1):
        fin=1  # Initialisation de la factorielle
    for i in range(2,x):
        fin*=i
    return x,fin

####  nombre est le nombre dont on veut calculer la factorielle
nombre = 8
##########
fin=1                       
x=nombre+1                # incrémentation de la fin de boucle      
x,fin = factorielle(x,fin)
print("**** Calcul de la factorielle de",str(nombre),"****") 
print ("    ",str(nombre)+"! =",fin)
### nombre c'est le nombre dont va etre saisie par l'utilisateur
n=input ("donner le nombre dont vous voulez calculer son factoriel : ")
nombre=int(n) ### saisie de la valeur
x=nombre+1   
x,fin = factorielle(x,fin)
print("**** Calcul de la factorielle de",str(nombre),"****") 
print ("    ",str(nombre)+"! =",fin)
#exercice 3
dic={} ##dictionnaire vide
t=True
while t==True:

    n=input("donner une valeur de n : ")
    if (int(n)==0):
     print("n doit etre un entier > à 0 ")
    elif(int(n)<0):
     print("n doit etre un entier positif")
    else:
     t=False
for i in range(1,int(n)+1):
 dic[i]=i*i
    
print("mon dictionnaire :", dic)  

# Créez un dictionnaire via le constructeur de la classe dict.
print("***On peut créer un objet dictionnaire à partir du constructeur (constructor) de la classe  dict().***")
mydict = dict()
for i in range(1,int(n)+1): 
 mydict[i] = i*i
 
print ("mon dictionnaire: ", mydict)
#exercice 4
## un programme qui calcule et imprime la valeur selon la formule donnée: Q = Racine carrée de [(2 * C * D) / H] 
##les valeurs fixes de C et H: C est 50. H est 30 
##D est la variable dont les valeurs doivent être entrées
from math import sqrt
def racine(D):
    C=50
    H=30
    Q=sqrt((2*C*D)/H)
    return int(Q)
D=input("donnez des valeurs de D separées par une , :")
l=[]
ch=""
for i in range(0,len(D)):
    if D[i]!=",":
        ch=ch+D[i]
    else: 
        j=1
        l.insert(len(l),ch)
        ch=""
        j+=1
l.insert(len(l),ch)
print("***la formule donnée: Q = Racine carrée de [(2 * C * D) / H] avec C=50 et H=30***")
print("==================================================================================")
for i in range(0,len(l)):
    print("pour la valeur entrée de D= ",l[i], "  la valeur Q calculée par la formule :", racine(int(l[i])))
#exercice 5
def missing_char(ch,chN,x): ## foction pour suprimer un charactère dont sa position donnée par l'utilisateur
                            ## imprimer la nouvelle chaine
    chN=ch[:x]+ch[x+1:len(ch)]
    print(" la lettre qui sera suprimé qui a la position:",x," c'est la lettre:",ch[x])
    print("missing_char('",ch,"';",x,")-----> :",chN) 

chN="";
ch=input("Tape une chaine de carctères : ")
while len(ch)==0:
    ch=input("SVP tape une chaine de caractère non vide : ")
print("donne un entier entre 0 et :",len(ch)-1)
x=int(input())
while x <0 or x>=len(ch):
    print("donne un entier entre 0 et :",len(ch)-1)
    x=int(input())
missing_char(ch,chN,x)
#exercice 6
# criptage d'un texte donné
#Sachant que: k -> m, o -> q et e-> g
##
def devoile_lettre(lettre_m,lettre_c,texte): ##lettre_m=lettre masque; lettre_c=lettre correcte
    print(len(texte))
    print(texte)
    for i in range(0,len(texte)-1):
        if(texte[i]==lettre_m):
            texte[i]=texte[:i]+lettre_c+texte[i+1:]

texte="g fmnc wms bgblr rpylqjyrc gr zw fylb. rfyrq ufyr amknsrcpq ypc dmp. bmgle gr gl zw fylb gq glcddgagclr ylb rfyr'q ufw rfgq rcvr gq qm jmle. sqgle qrpgle.kyicrpylq() gq pcamkkclbcb. lmu ynnjw ml rfc spj. "


#for l in {"m","q","g"}:
    #if(l=="m"):
        #devoile_lettre(l,"k",texte)
    #elif(l=="q"):
        #devoile_lettre(l,"o",texte)
    #elif(l=="g"):
        #devoile_lettre(l,"e",texte)
    

for l in range(0,len(texte)-1):  
       
    if(texte[l]=="m"):
        texte=texte[:l]+"k"+texte[l+1:]
    elif(texte[l]=="q"): 
        texte=texte[:l]+"o"+texte[l+1:]
    elif(texte[l]=="g"):
        texte=texte[:l]+"e"+texte[l+1:]
          
print(texte)
